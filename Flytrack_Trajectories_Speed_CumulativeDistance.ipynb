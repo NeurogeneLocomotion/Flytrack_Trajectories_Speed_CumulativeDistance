{
 "cells": [
  {
   "cell_type": "markdown",
   "metadata": {},
   "source": [
    "## Data Analysis Flytracking\n",
    "\n",
    "#### Tracking Program Single Fly Tracker\n",
    "\n",
    "Data is exported to an CSV file\n"
   ]
  },
  {
   "cell_type": "code",
   "execution_count": 1,
   "metadata": {},
   "outputs": [],
   "source": [
    "# import modules\n",
    "import numpy as np\n",
    "import matplotlib.pyplot as plt\n",
    "import math\n",
    "import seaborn as sns\n",
    "import pandas as pd \n",
    "\n",
    "%matplotlib notebook"
   ]
  },
  {
   "cell_type": "markdown",
   "metadata": {},
   "source": [
    "### Selecting data set file \n",
    "- Import Columns: Frames, Seconds , x and y positions and LED\n",
    "- Convert Frames to secods\n",
    "- Select onset stim "
   ]
  },
  {
   "cell_type": "code",
   "execution_count": 2,
   "metadata": {
    "code_folding": []
   },
   "outputs": [],
   "source": [
    "#Opening the data set file\n",
    "\n",
    "#when run more than one time says list command is not applyable\n",
    "from csv import reader\n",
    "num_files = 20\n",
    "flymotion_all = []\n",
    "for i in range(num_files):\n",
    "    folder_name = 'data_sens37_unamp/'\n",
    "    file_name = '100718_Sens37_unamp_'+str(i+1)+'_fly0.csv'\n",
    "    file = open(folder_name+file_name)\n",
    "    read_file = reader(file)\n",
    "    flymotion_all.append(list(read_file\n",
    "                             ))"
   ]
  },
  {
   "cell_type": "code",
   "execution_count": 3,
   "metadata": {},
   "outputs": [],
   "source": [
    "# analysis on one file\n",
    "folder_name = 'data_sens37_unamp/'\n",
    "file_name = '100718_Sens37_unamp_15_fly0.csv'\n",
    "file1 = open(folder_name+file_name)\n",
    "read_file1 = list(reader(file1))"
   ]
  },
  {
   "cell_type": "code",
   "execution_count": 4,
   "metadata": {
    "code_folding": [],
    "scrolled": false
   },
   "outputs": [],
   "source": [
    "# Data treatment \n",
    "def data_treatment(file):\n",
    "    '''\n",
    "    Select only columns: frames, time, x and y coordinates, and LED_lum and transform data into np_array\n",
    "    Returns:1) data_array containing frames, time, x and y coordinates \n",
    "            2) LED_lum column\n",
    "    '''\n",
    "    fm_data = file[4:]  #Exclude first 4 rows containing unnecessary information\n",
    "    fm_data_array = np.array(fm_data)  #transform data into np array\n",
    "    data_array = fm_data_array[:, 0:4]  #select only frames,seconds and x,y position\n",
    "    LED_lum = fm_data_array[1:,8].astype(np.float)  #Select the LED colmumn to know where is the Red Light Stim\n",
    "    return data_array, LED_lum\n",
    "\n",
    "def frame_to_time(data_array, framerate=30.):\n",
    "    frames = (data_array[1:, 0]).astype(np.float)   #transform array into float\n",
    "    timepoints = frames/framerate\n",
    "    return frames, timepoints\n",
    "\n",
    "def LED_ON(LED_lum, frames, timepoints):\n",
    "    '''\n",
    "    Inform when stimulus is on with LED lum. change\n",
    "    '''\n",
    "    LED_diff = np.diff(LED_lum) \n",
    "    timepoints_LED = timepoints[1:]\n",
    "    frames_LED = frames[1:]\n",
    "    crimson_stim_time = timepoints_LED[np.greater(np.abs(LED_diff), 2.)] #look for the place where LED lum changed\n",
    "    crimson_stim_frame = (frames_LED[np.greater(np.abs(LED_diff), 2.)]).astype(int)\n",
    "    return crimson_stim_time, crimson_stim_frame\n",
    "\n",
    "def pixel_per_mm(file):\n",
    "    '''\n",
    "    Calculate pixel per mm using arena size \n",
    "    '''\n",
    "    arena_size_pixel = file[2][1]  #retrieve from excel the size of the arena in pixels\n",
    "    arena_size_mm = 54\n",
    "    ppm = int(arena_size_pixel) / int(arena_size_mm)  #pixel per mm\n",
    "    return ppm  \n",
    "\n",
    "def calculate_dist(data_array, ppm):\n",
    "    x_coordinates = ((data_array[1:, 2]).astype(np.float))/ppm   #transform coordinates in pixels into mm\n",
    "    y_coordinates = ((data_array[1:, 3]).astype(np.float))/ppm\n",
    "    positions_array = np.vstack((x_coordinates, y_coordinates))\n",
    "    distance_between_frames = np.sqrt(np.sum((np.diff(positions_array))**2, axis=0))\n",
    "    cumulative_distance = np.cumsum(distance_between_frames)\n",
    "    return x_coordinates, y_coordinates, positions_array,distance_between_frames, cumulative_distance\n",
    "\n",
    "def calculate_velocity(distance_between_frames, framerate=30.):\n",
    "    velocity = np.divide(distance_between_frames, (1/framerate))\n",
    "    nvel = velocity.shape[0]\n",
    "    return velocity\n",
    "\n",
    "\n",
    "def stimulus_on_off_sec(LED_lum, frames, timepoints):\n",
    "    crimson_stim_time, crimson_stim_frame = LED_ON(LED_lum, frames, timepoints)    \n",
    "    stim_onset_frame =  crimson_stim_frame[0]\n",
    "    stim_offset_frame = crimson_stim_frame[1]\n",
    "    \n",
    "    # analyse only a section of the total frames of 30 frames before crim. onset and 120 frames after crim. onset\n",
    "    # set starting and point for plots\n",
    "    start_point = stim_onset_frame - 30\n",
    "    end_point = stim_onset_frame + 120\n",
    "    return start_point, end_point"
   ]
  },
  {
   "cell_type": "code",
   "execution_count": 5,
   "metadata": {},
   "outputs": [],
   "source": [
    "file = read_file1.copy()\n",
    "data_array, LED_lum = data_treatment(file)\n",
    "frames, timepoints = frame_to_time(data_array)\n",
    "LED_diff = np.diff(LED_lum) \n",
    "timepoints_LED = timepoints[1:]\n",
    "frames_LED = frames[1:]\n",
    "crimson_stim_time = timepoints_LED[np.greater(np.abs(LED_diff), 2.)] #look for the place where LED lum changed \n",
    "crimson_stim_frame = (frames_LED[np.greater(np.abs(LED_diff), 2.)]).astype(int)\n",
    "start_point, end_point = stimulus_on_off_sec(LED_lum, frames, timepoints)"
   ]
  },
  {
   "cell_type": "markdown",
   "metadata": {},
   "source": [
    "### Plot Trajectories"
   ]
  },
  {
   "cell_type": "code",
   "execution_count": 18,
   "metadata": {
    "scrolled": false
   },
   "outputs": [
    {
     "name": "stdout",
     "output_type": "stream",
     "text": [
      "(120,)\n",
      "(417,)\n"
     ]
    },
    {
     "data": {
      "image/png": "[encoded data removed]",
      "text/plain": [
       "<Figure size 720x576 with 2 Axes>"
      ]
     },
     "metadata": {},
     "output_type": "display_data"
    },
    {
     "data": {
      "text/plain": [
       "<Figure size 432x288 with 0 Axes>"
      ]
     },
     "metadata": {},
     "output_type": "display_data"
    }
   ],
   "source": [
    "#Plot Trajectories\n",
    "def plot_traject_vel(file):\n",
    "    data_array, LED_lum = data_treatment(file)\n",
    "    ppm = pixel_per_mm(file)\n",
    "    frames, timepoints = frame_to_time(data_array)\n",
    "    x_coordinates, y_coordinates, positions_array, distance_between_frames, cumulative_distance = calculate_dist(\n",
    "        data_array, ppm)\n",
    "   \n",
    "    start_point, end_point = stimulus_on_off_sec(LED_lum, frames, timepoints)\n",
    "    stim_time = start_point +30\n",
    "    x_coord_cut = x_coordinates[stim_time:end_point]\n",
    "    y_coord_cut = y_coordinates[stim_time:end_point]\n",
    "    \n",
    "    \n",
    "    # Calculate velocities\n",
    "    velocity = calculate_velocity(distance_between_frames, framerate=30.)\n",
    "    velocity_short = velocity[stim_time:end_point]\n",
    "    print (velocity_short.shape)\n",
    "   \n",
    "\n",
    "    print (x_coordinates.shape)\n",
    "    #circle1 = plt.Circle((27, 27), 27,color='grey',alpha=0.05)\n",
    "    fig, ax1  = plt.subplots(1, figsize=(10, 8))\n",
    "    sc = ax1.scatter(x_coord_cut, y_coord_cut, c=velocity_short, cmap=plt.cm.viridis,alpha=1, s=10,vmin=0,vmax=12)\n",
    "    ax1.plot(x_coord_cut[0], y_coord_cut[0], 'o', ms=5, color='r')\n",
    "    ax1.plot(x_coord_cut[-1], y_coord_cut[-1], 'o', ms=5, color='k')\n",
    "    ax1.set_xlim(0,54)\n",
    "    ax1.set_ylim(0,54)\n",
    "    ax1.set_xlabel('x coordinate')\n",
    "    ax1.set_ylabel('y coordinate')\n",
    "    #ax1.add_artist(circle1)\n",
    "\n",
    "    plt.colorbar(sc)\n",
    "    plt.show()\n",
    "\n",
    "\n",
    "plot_traject_vel(read_file1)\n",
    "plt.savefig('Sens37_unamp_trajectory1.svg')"
   ]
  },
  {
   "cell_type": "markdown",
   "metadata": {},
   "source": [
    "## Analysis on all the data files"
   ]
  },
  {
   "cell_type": "code",
   "execution_count": 19,
   "metadata": {},
   "outputs": [],
   "source": [
    "#Opening the data set file\n",
    "# from csv import reader\n",
    "num_files = 19\n",
    "# flymotion_all = []\n",
    "velocity_all = []\n",
    "cum_distance_all = []\n",
    "for i in range(num_files):\n",
    "    folder_name = 'data_sens37_unamp/'\n",
    "    file_name = '100718_Sens37_unamp_' + str(i+1) + '_fly0.csv'\n",
    "    file = open(folder_name+file_name)\n",
    "    read_file = list(reader(file))\n",
    "    # preprocessing on the read_file\n",
    "    data_array, LED_lum = data_treatment(read_file)\n",
    "    ppm = pixel_per_mm(read_file)\n",
    "    frames, timepoints = frame_to_time(data_array)\n",
    "    x_coordinates, y_coordinates, positions_array, distance_between_frames, cumulative_distance = calculate_dist(\n",
    "        data_array, ppm)\n",
    "    start_point, end_point = stimulus_on_off_sec(LED_lum, frames, timepoints)\n",
    "    velocity = calculate_velocity(distance_between_frames, framerate=30.)#velocity values for each frame\n",
    "    velocity_croped = velocity[start_point:end_point] # we cut the velocity values 1 seconds before the stim and 4 seconds after\n",
    "    velocity_all.append(velocity_croped)\n",
    "    \n",
    "    cum_dist = cumulative_distance[start_point:end_point]\n",
    "    cum_dist_zero = cum_dist -(cumulative_distance[start_point])     #alteration 11/19 start the sum 1 sec before stim\n",
    "    cum_distance_all.append(cum_dist_zero)"
   ]
  },
  {
   "cell_type": "code",
   "execution_count": 20,
   "metadata": {},
   "outputs": [],
   "source": [
    "# function to compute confidence interval (ci)\n",
    "# here 95% confidence interval\n",
    "def ci_wp(a, axis=0):\n",
    "    \"\"\"calculate confidence interval using Wikipedia's formula\"\"\"\n",
    "    m = np.mean(a, axis=axis)\n",
    "    p = a.shape[0]\n",
    "    s = 1.96*np.std(a)/np.sqrt(p)\n",
    "    return m - s, m + s"
   ]
  },
  {
   "cell_type": "code",
   "execution_count": 21,
   "metadata": {},
   "outputs": [],
   "source": [
    "# concatenate the analysis for all files into numpy array and compute mean and std\n",
    "velocity_conc = np.vstack([velocity_all[i]] for i in range(num_files))\n",
    "mean_velocity = np.mean(velocity_conc, axis=0)\n",
    "std_velocity = np.std(velocity_conc, axis=0)\n",
    "sem_velocity = std_velocity/math.sqrt(num_files)\n",
    "ci_lower_velocity, ci_upper_velocity = ci_wp(velocity_conc, axis=0)\n",
    "\n",
    "# similar analysis for cumulative distance\n",
    "dist_conc = np.vstack([cum_distance_all[i]] for i in range(num_files))\n",
    "mean_dist = np.mean(dist_conc, axis=0)\n",
    "std_dist = np.std(dist_conc, axis=0)\n",
    "ci_lower_dist, ci_upper_dist = ci_wp(dist_conc, axis=0)\n"
   ]
  },
  {
   "cell_type": "code",
   "execution_count": 22,
   "metadata": {},
   "outputs": [],
   "source": [
    "# create a long-form dataframe for speed and distance\n",
    "framerate=30\n",
    "v = np.concatenate([velocity_all[i] for i in range(num_files)])\n",
    "t = np.tile(np.linspace(-1, 4, mean_velocity.size)+(1/framerate), num_files)\n",
    "d = np.concatenate([cum_distance_all[i] for i in range(num_files)])\n",
    "df1 = pd.DataFrame({'Speed': v,'Time': t,'Distance':d})"
   ]
  },
  {
   "cell_type": "markdown",
   "metadata": {},
   "source": [
    "## Velocity plots"
   ]
  },
  {
   "cell_type": "markdown",
   "metadata": {},
   "source": [
    "## Plot of the mean velocity with standard error of the mean: Plots for Figure 1"
   ]
  },
  {
   "cell_type": "code",
   "execution_count": 23,
   "metadata": {},
   "outputs": [
    {
     "data": {
      "image/png": "[encoded data removed]",
      "text/plain": [
       "<Figure size 432x360 with 1 Axes>"
      ]
     },
     "metadata": {},
     "output_type": "display_data"
    }
   ],
   "source": [
    "fig, ax = plt.subplots(figsize=(6, 5))\n",
    "ax.plot(np.linspace(-1, 4, mean_velocity.size)+(1/framerate), mean_velocity, color='SteelBlue', alpha=1, lw=1)\n",
    "ax.fill_between(np.linspace(-1, 4, mean_velocity.size)+(1/framerate), mean_velocity+sem_velocity, mean_velocity-sem_velocity,\n",
    "                alpha=0.4, color='SteelBlue')\n",
    "ax.axvspan(0, 0.1, alpha=0.5, color='red')\n",
    "ax.set_ylim([0, 10])\n",
    "plt.tick_params(labelsize=17) \n",
    "plt.xlabel('Time (s)',fontsize=22)\n",
    "plt.ylabel('Speed (mm/s)',fontsize=22)\n",
    "ax.spines['right'].set_visible(False)\n",
    "ax.spines['top'].set_visible(False)\n",
    "ax.spines['left'].set_bounds(0, 10)\n",
    "ax.spines['bottom'].set_bounds(-1, 4)\n",
    "#plt.title('Mechanosensory Bristles Unamputated',fontsize=22)\n",
    "plt.savefig('NewMSBristles_unamp_velocity.svg')\n",
    "#plt.savefig('MSBristles_unamp_velocity.png')\n",
    "plt.show()\n",
    "\n",
    "\n"
   ]
  },
  {
   "cell_type": "markdown",
   "metadata": {},
   "source": [
    "## Cumulative distance plots"
   ]
  },
  {
   "cell_type": "markdown",
   "metadata": {},
   "source": [
    "## cumulative distance mean and sem"
   ]
  },
  {
   "cell_type": "code",
   "execution_count": 24,
   "metadata": {},
   "outputs": [
    {
     "data": {
      "image/png": "[encoded data removed]",
      "text/plain": [
       "<Figure size 432x360 with 1 Axes>"
      ]
     },
     "metadata": {},
     "output_type": "display_data"
    }
   ],
   "source": [
    "sem_dist = std_dist/math.sqrt(num_files)\n",
    "fig, ax = plt.subplots(figsize=(6, 5))\n",
    "fig.tight_layout()\n",
    "ax.plot(np.linspace(-1, 4, mean_dist.size), mean_dist, color='black', alpha=1, lw=3)\n",
    "ax.fill_between(np.linspace(-1, 4, mean_dist.size), mean_dist-sem_dist, mean_dist+sem_dist, \n",
    "                alpha=0.4, color='grey')\n",
    "ax.axvspan(0, 0.1, alpha=0.5, color='red')\n",
    "ax.set_xlabel('Time(Seconds)',fontsize = 22)\n",
    "ax.set_ylabel('Cumulative Distance(mm)',fontsize = 22)\n",
    "plt.savefig('Sens37_unamp_dist.svg')\n",
    "ax.set_ylim([0,30])\n",
    "plt.show()\n",
    "\n",
    "\n"
   ]
  },
  {
   "cell_type": "code",
   "execution_count": null,
   "metadata": {},
   "outputs": [],
   "source": []
  },
  {
   "cell_type": "code",
   "execution_count": null,
   "metadata": {},
   "outputs": [],
   "source": []
  },
  {
   "cell_type": "code",
   "execution_count": null,
   "metadata": {},
   "outputs": [],
   "source": []
  }
 ],
 "metadata": {
  "hide_input": false,
  "kernelspec": {
   "display_name": "Python 3",
   "language": "python",
   "name": "python3"
  },
  "language_info": {
   "codemirror_mode": {
    "name": "ipython",
    "version": 3
   },
   "file_extension": ".py",
   "mimetype": "text/x-python",
   "name": "python",
   "nbconvert_exporter": "python",
   "pygments_lexer": "ipython3",
   "version": "3.6.4"
  },
  "latex_envs": {
   "LaTeX_envs_menu_present": true,
   "autoclose": false,
   "autocomplete": true,
   "bibliofile": "biblio.bib",
   "cite_by": "apalike",
   "current_citInitial": 1,
   "eqLabelWithNumbers": true,
   "eqNumInitial": 1,
   "hotkeys": {
    "equation": "Ctrl-E",
    "itemize": "Ctrl-I"
   },
   "labels_anchors": false,
   "latex_user_defs": false,
   "report_style_numbering": false,
   "user_envs_cfg": false
  },
  "varInspector": {
   "cols": {
    "lenName": 16,
    "lenType": 16,
    "lenVar": 40
   },
   "kernels_config": {
    "python": {
     "delete_cmd_postfix": "",
     "delete_cmd_prefix": "del ",
     "library": "var_list.py",
     "varRefreshCmd": "print(var_dic_list())"
    },
    "r": {
     "delete_cmd_postfix": ") ",
     "delete_cmd_prefix": "rm(",
     "library": "var_list.r",
     "varRefreshCmd": "cat(var_dic_list()) "
    }
   },
   "types_to_exclude": [
    "module",
    "function",
    "builtin_function_or_method",
    "instance",
    "_Feature"
   ],
   "window_display": false
  }
 },
 "nbformat": 4,
 "nbformat_minor": 2
}
